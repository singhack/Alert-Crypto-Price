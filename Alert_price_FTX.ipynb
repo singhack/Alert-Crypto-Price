{
  "nbformat": 4,
  "nbformat_minor": 0,
  "metadata": {
    "colab": {
      "name": "Alert price FTX.ipynb",
      "provenance": [],
      "collapsed_sections": []
    },
    "kernelspec": {
      "name": "python3",
      "display_name": "Python 3"
    },
    "language_info": {
      "name": "python"
    }
  },
  "cells": [
    {
      "cell_type": "code",
      "metadata": {
        "colab": {
          "base_uri": "https://localhost:8080/"
        },
        "id": "10mmKk3E2DVs",
        "outputId": "51e11c0f-cb80-4d35-ab2a-205229b2fc34"
      },
      "source": [
        "#### Install Libs\n",
        "\n",
        "!pip install ccxt\n",
        "!pip install schedule\n",
        "## TA - LIB ##\n",
        "!wget https://launchpad.net/~mario-mariomedina/+archive/ubuntu/talib/+files/libta-lib0_0.4.0-oneiric1_amd64.deb -qO libta.deb\n",
        "!wget https://launchpad.net/~mario-mariomedina/+archive/ubuntu/talib/+files/ta-lib0-dev_0.4.0-oneiric1_amd64.deb -qO ta.deb\n",
        "!dpkg -i libta.deb ta.deb\n",
        "!pip install ta-lib"
      ],
      "execution_count": 1,
      "outputs": [
        {
          "output_type": "stream",
          "text": [
            "Collecting ccxt\n",
            "\u001b[?25l  Downloading https://files.pythonhosted.org/packages/10/f1/d819d823c375af7c66edb54772841b9d727f67bfbb39b41ddc95d0dafa68/ccxt-1.44.4-py2.py3-none-any.whl (2.1MB)\n",
            "\u001b[K     |████████████████████████████████| 2.1MB 7.0MB/s \n",
            "\u001b[?25hCollecting aiodns<2.1,>=1.1.1; python_version >= \"3.5.2\"\n",
            "  Downloading https://files.pythonhosted.org/packages/da/01/8f2d49b441573fd2478833bdba91cf0b853b4c750a1fbb9e98de1b94bb22/aiodns-2.0.0-py2.py3-none-any.whl\n",
            "Requirement already satisfied: certifi>=2018.1.18 in /usr/local/lib/python3.7/dist-packages (from ccxt) (2020.12.5)\n",
            "Collecting yarl==1.1.0; python_version >= \"3.5.2\"\n",
            "\u001b[?25l  Downloading https://files.pythonhosted.org/packages/a3/08/05b2d731ef5163b3bcb993f569c4d2b303642f7ee3cbdea373f59e4bd42a/yarl-1.1.0.tar.gz (156kB)\n",
            "\u001b[K     |████████████████████████████████| 163kB 33.2MB/s \n",
            "\u001b[?25hRequirement already satisfied: requests>=2.18.4 in /usr/local/lib/python3.7/dist-packages (from ccxt) (2.23.0)\n",
            "Collecting cryptography>=2.6.1\n",
            "\u001b[?25l  Downloading https://files.pythonhosted.org/packages/f8/1f/acde6ff69864c5e78b56488e3afd93c1ccc8c2651186e2a5f93d93f64859/cryptography-3.4.6-cp36-abi3-manylinux2014_x86_64.whl (3.2MB)\n",
            "\u001b[K     |████████████████████████████████| 3.2MB 34.0MB/s \n",
            "\u001b[?25hRequirement already satisfied: setuptools>=38.5.1 in /usr/local/lib/python3.7/dist-packages (from ccxt) (54.1.2)\n",
            "Collecting aiohttp<3.8,>=3.7.4; python_version >= \"3.5.2\"\n",
            "\u001b[?25l  Downloading https://files.pythonhosted.org/packages/88/c0/5890b4c8b04a79b7360e8fe4490feb0bb3ab179743f199f0e6220cebd568/aiohttp-3.7.4.post0-cp37-cp37m-manylinux2014_x86_64.whl (1.3MB)\n",
            "\u001b[K     |████████████████████████████████| 1.3MB 35.9MB/s \n",
            "\u001b[?25hCollecting pycares>=3.0.0\n",
            "\u001b[?25l  Downloading https://files.pythonhosted.org/packages/d3/ea/6367930636a9859cc9ea8cb738a3e0c4f9929c596806214d5df4c48565db/pycares-3.1.1-cp37-cp37m-manylinux2010_x86_64.whl (228kB)\n",
            "\u001b[K     |████████████████████████████████| 235kB 30.1MB/s \n",
            "\u001b[?25hCollecting multidict>=4.0\n",
            "\u001b[?25l  Downloading https://files.pythonhosted.org/packages/7c/a6/4123b8165acbe773d1a8dc8e3f0d1edea16d29f7de018eda769abb56bd30/multidict-5.1.0-cp37-cp37m-manylinux2014_x86_64.whl (142kB)\n",
            "\u001b[K     |████████████████████████████████| 143kB 38.0MB/s \n",
            "\u001b[?25hRequirement already satisfied: idna>=2.0 in /usr/local/lib/python3.7/dist-packages (from yarl==1.1.0; python_version >= \"3.5.2\"->ccxt) (2.10)\n",
            "Requirement already satisfied: chardet<4,>=3.0.2 in /usr/local/lib/python3.7/dist-packages (from requests>=2.18.4->ccxt) (3.0.4)\n",
            "Requirement already satisfied: urllib3!=1.25.0,!=1.25.1,<1.26,>=1.21.1 in /usr/local/lib/python3.7/dist-packages (from requests>=2.18.4->ccxt) (1.24.3)\n",
            "Requirement already satisfied: cffi>=1.12 in /usr/local/lib/python3.7/dist-packages (from cryptography>=2.6.1->ccxt) (1.14.5)\n",
            "Requirement already satisfied: typing-extensions>=3.6.5 in /usr/local/lib/python3.7/dist-packages (from aiohttp<3.8,>=3.7.4; python_version >= \"3.5.2\"->ccxt) (3.7.4.3)\n",
            "Collecting async-timeout<4.0,>=3.0\n",
            "  Downloading https://files.pythonhosted.org/packages/e1/1e/5a4441be21b0726c4464f3f23c8b19628372f606755a9d2e46c187e65ec4/async_timeout-3.0.1-py3-none-any.whl\n",
            "Requirement already satisfied: attrs>=17.3.0 in /usr/local/lib/python3.7/dist-packages (from aiohttp<3.8,>=3.7.4; python_version >= \"3.5.2\"->ccxt) (20.3.0)\n",
            "Requirement already satisfied: pycparser in /usr/local/lib/python3.7/dist-packages (from cffi>=1.12->cryptography>=2.6.1->ccxt) (2.20)\n",
            "Building wheels for collected packages: yarl\n",
            "  Building wheel for yarl (setup.py) ... \u001b[?25l\u001b[?25hdone\n",
            "  Created wheel for yarl: filename=yarl-1.1.0-cp37-cp37m-linux_x86_64.whl size=241443 sha256=f05cc257e4ad0bf17da2ccce8318417a64c2dc68d2fd08f201dc49ed7907c1b8\n",
            "  Stored in directory: /root/.cache/pip/wheels/96/26/b9/7972042a1a69556ba7f38b8a301dc3a9ddac1b8f61f02fbfd8\n",
            "Successfully built yarl\n",
            "Installing collected packages: pycares, aiodns, multidict, yarl, cryptography, async-timeout, aiohttp, ccxt\n",
            "Successfully installed aiodns-2.0.0 aiohttp-3.7.4.post0 async-timeout-3.0.1 ccxt-1.44.4 cryptography-3.4.6 multidict-5.1.0 pycares-3.1.1 yarl-1.1.0\n",
            "Collecting schedule\n",
            "  Downloading https://files.pythonhosted.org/packages/43/8c/74529fcfbfaa93b8e88ba5d7f883805f87ee167ad878d0638cc012e5acc0/schedule-1.0.0-py2.py3-none-any.whl\n",
            "Installing collected packages: schedule\n",
            "Successfully installed schedule-1.0.0\n",
            "Selecting previously unselected package libta-lib0.\n",
            "(Reading database ... 160980 files and directories currently installed.)\n",
            "Preparing to unpack libta.deb ...\n",
            "Unpacking libta-lib0 (0.4.0-oneiric1) ...\n",
            "Selecting previously unselected package ta-lib0-dev.\n",
            "Preparing to unpack ta.deb ...\n",
            "Unpacking ta-lib0-dev (0.4.0-oneiric1) ...\n",
            "Setting up libta-lib0 (0.4.0-oneiric1) ...\n",
            "Setting up ta-lib0-dev (0.4.0-oneiric1) ...\n",
            "Processing triggers for man-db (2.8.3-2ubuntu0.1) ...\n",
            "Processing triggers for libc-bin (2.27-3ubuntu1.2) ...\n",
            "/sbin/ldconfig.real: /usr/local/lib/python3.7/dist-packages/ideep4py/lib/libmkldnn.so.0 is not a symbolic link\n",
            "\n",
            "Collecting ta-lib\n",
            "\u001b[?25l  Downloading https://files.pythonhosted.org/packages/ac/cf/681911aa31e04ba171ab4d523a412f4a746e30d3eacb1738799d181e028b/TA-Lib-0.4.19.tar.gz (267kB)\n",
            "\u001b[K     |████████████████████████████████| 276kB 5.2MB/s \n",
            "\u001b[?25hRequirement already satisfied: numpy in /usr/local/lib/python3.7/dist-packages (from ta-lib) (1.19.5)\n",
            "Building wheels for collected packages: ta-lib\n",
            "  Building wheel for ta-lib (setup.py) ... \u001b[?25l\u001b[?25hdone\n",
            "  Created wheel for ta-lib: filename=TA_Lib-0.4.19-cp37-cp37m-linux_x86_64.whl size=1438006 sha256=52f347cc82052ae355076c35f26f5694fea329f600e79eb8c711cd2160176f1e\n",
            "  Stored in directory: /root/.cache/pip/wheels/a3/f6/12/3d1ccd06caadd8fa47e016991dd0d27f1163bb260f1854e2ff\n",
            "Successfully built ta-lib\n",
            "Installing collected packages: ta-lib\n",
            "Successfully installed ta-lib-0.4.19\n"
          ],
          "name": "stdout"
        }
      ]
    },
    {
      "cell_type": "code",
      "metadata": {
        "id": "U-bx4VBy4YHU"
      },
      "source": [
        "import pandas as pd\n",
        "import numpy as np\n",
        "import datetime as dt\n",
        "import time\n",
        "import seaborn as sns\n",
        "import math\n",
        "import ccxt\n",
        "import matplotlib.pyplot as plt\n",
        "%matplotlib inline\n",
        "import talib as ta\n",
        "import requests\n",
        "import schedule\n",
        "import warnings\n",
        "\n",
        "\n",
        "pd.options.display.max_columns = None\n",
        "warnings.filterwarnings('ignore')\n",
        "# sns.set_style('darkgrid')\n",
        "\n"
      ],
      "execution_count": 3,
      "outputs": []
    },
    {
      "cell_type": "code",
      "metadata": {
        "id": "qU_SfIm74kL5"
      },
      "source": [
        "######### SET UP EXCHANGE ########\n",
        "apiKey=  ''\n",
        "secret = ''\n",
        "sub_account = ''\n",
        "\n",
        "exchange  = ccxt.ftx({\n",
        "    'verbose': False,\n",
        "    'apiKey': apiKey,\n",
        "    'secret': secret,\n",
        "    'enableRateLimit': True,\n",
        "    'headers': {\n",
        "        'FTX-SUBACCOUNT': sub_account,\n",
        "    },\n",
        "})\n",
        "\n",
        "\n",
        "# mpf.available_styles()\n",
        "### SETTING ###\n",
        "symbol= \"UNI-PERP\"\n",
        "timeframe ='1d'\n",
        "###########\n"
      ],
      "execution_count": 5,
      "outputs": []
    },
    {
      "cell_type": "code",
      "metadata": {
        "id": "Mf4E-haR4phG"
      },
      "source": [
        "def get_data(symbol):\n",
        "  df= pd.DataFrame(exchange.fetch_ohlcv(symbol,timeframe),columns=['date','open','high','low','close','volume'])\n",
        "  # df.drop(columns='volume',inplace=True)\n",
        "  df['volume'] =(df['volume'].astype('int'))\n",
        "  df['date']=df['date'].apply(exchange.iso8601)\n",
        "  df['date']=pd.to_datetime(df['date'])\n",
        "#   df['date']=df['date'].apply(lambda x: x.strftime('%Y-%m-%d %H:%M'))\n",
        "#   df['date']=pd.to_datetime(df['date'])\n",
        "  df.set_index('date',inplace=True)\n",
        "\n",
        "#   df.dropna(inplace=True)\n",
        "  return df\n",
        "\n",
        "\n",
        "\n",
        "def anlysis(dataframe):\n",
        "    try:\n",
        "        df =dataframe\n",
        "        up, mid, low = ta.BBANDS(df['close'], timeperiod=50, nbdevup=2, nbdevdn=2, matype=0)\n",
        "        #   df['chg'] =df.close - df.close.shift(1)\n",
        "        df['atr'] = ta.ATR(df['high'],df['low'],df['close'],timeperiod= 10)\n",
        "        df['rsi']= ta.RSI(df['close'],timeperiod=10)\n",
        "        df.dropna(inplace=True)\n",
        "#         print(df.tail(5))\n",
        "        return df\n",
        "    except Exception as e:\n",
        "        print(str(e))\n",
        "        \n",
        "def sendtext(message):\n",
        "    try:    \n",
        "        token = '' ### ใส่ Token ตรงนี้ครับผม\n",
        "        url = 'https://notify-api.line.me/api/notify'\n",
        "        header = {'content-type':'application/x-www-form-urlencoded','Authorization':'Bearer '+token}   \n",
        "        command = {'message':message}\n",
        "        return requests.post(url, headers=header, data = command)\n",
        "    except Exception as e:\n",
        "        print(e)\n",
        "        "
      ],
      "execution_count": 15,
      "outputs": []
    },
    {
      "cell_type": "code",
      "metadata": {
        "id": "p-Wo9Mw_4q_4"
      },
      "source": [
        "def AlertPrice(trigger,symbol) :### Trigger x.x % \n",
        "    df = get_data(symbol)\n",
        "    df= anlysis(df)\n",
        "    now_price = df['close'][-1]\n",
        "    rsi = df['rsi'][-1]\n",
        "    atr = df['atr'][-1]\n",
        "    ref_price = df['close'][-2]\n",
        "    diff = (now_price - ref_price) /ref_price  *100\n",
        "    diff = round(diff,3)\n",
        "\n",
        "\n",
        "\n",
        "    if abs(diff) >= trigger :\n",
        "        time_stamp = dt.datetime.now().strftime('%D %H:%M:%S')\n",
        "        msg = f' Alert :{time_stamp} \\n•{symbol} \\n•Price {ref_price}:>>>{now_price}>>{diff}% \\n•RSI : {rsi:.2f} ATR : {(atr/now_price*100):.2f}%'\n",
        "        print('#'*60,'\\n')\n",
        "        print(msg)\n",
        "        print('#'*60,'\\n')\n",
        "\n",
        "        sendtext(msg)\n",
        "        \n",
        "\n",
        "    else:\n",
        "        time_stamp = dt.datetime.now().strftime('%D %H:%M:%S')\n",
        "        msg = f' Check Price :{time_stamp} \\n•{symbol} \\n•Price {ref_price}:>>>{now_price}>>{diff}% \\n•RSI : {rsi:.2f} ATR : {(atr/now_price*100):.2f}%'\n",
        "        print('#'*60,'\\n')\n",
        "        print(msg)\n",
        "        print('#'*60,'\\n')\n",
        "\n",
        "\n"
      ],
      "execution_count": 29,
      "outputs": []
    },
    {
      "cell_type": "code",
      "metadata": {
        "colab": {
          "base_uri": "https://localhost:8080/"
        },
        "id": "mC_yTaBl5I6b",
        "outputId": "8d58246e-13e9-4bed-cb5e-26ab984bda85"
      },
      "source": [
        "\n",
        "symbols = 'UNI-PERP'\n",
        "timeframe = '15m'\n",
        "\n",
        "while True:\n",
        "    AlertPrice(1.0,symbols)\n",
        "    time.sleep(300)"
      ],
      "execution_count": null,
      "outputs": [
        {
          "output_type": "stream",
          "text": [
            "############################################################ \n",
            "\n",
            " Check Price :03/23/21 16:54:29 \n",
            "•UNI-PERP \n",
            "•Price 33.959:>>>33.736>>-0.657% \n",
            "•RSI : 58.80 ATR : 1.12%\n",
            "############################################################ \n",
            "\n"
          ],
          "name": "stdout"
        }
      ]
    },
    {
      "cell_type": "code",
      "metadata": {
        "colab": {
          "base_uri": "https://localhost:8080/",
          "height": 605
        },
        "id": "v0XO1sZe5h_9",
        "outputId": "d7436674-3526-48d9-f18d-61a821ba2b41"
      },
      "source": [
        "############ Multi Symbols ##########\n",
        "\n",
        "symbols = ['UNI-PERP','ETH-PERP','BTC-PERP']\n",
        "timeframe = '1h'\n",
        "while True:\n",
        "\n",
        "  for i in symbols:\n",
        "    if i == 'UNI-PERP':\n",
        "      AlertPrice(2.0,i)\n",
        "    else : \n",
        "        AlertPrice(1.5,i)\n",
        "  time.sleep(300)\n"
      ],
      "execution_count": 31,
      "outputs": [
        {
          "output_type": "stream",
          "text": [
            "############################################################ \n",
            "\n",
            " Check Price :03/23/21 16:35:16 \n",
            "•UNI-PERP \n",
            "•Price 33.231:>>>33.789>>1.679% \n",
            "•RSI : 53.39 ATR : 2.45%\n",
            "############################################################ \n",
            "\n",
            "############################################################ \n",
            "\n",
            " Check Price :03/23/21 16:35:16 \n",
            "•ETH-PERP \n",
            "•Price 1704.5:>>>1716.5>>0.704% \n",
            "•RSI : 56.20 ATR : 1.24%\n",
            "############################################################ \n",
            "\n",
            "############################################################ \n",
            "\n",
            " Check Price :03/23/21 16:35:17 \n",
            "•BTC-PERP \n",
            "•Price 55209.0:>>>55672.0>>0.839% \n",
            "•RSI : 60.12 ATR : 1.30%\n",
            "############################################################ \n",
            "\n"
          ],
          "name": "stdout"
        },
        {
          "output_type": "error",
          "ename": "KeyboardInterrupt",
          "evalue": "ignored",
          "traceback": [
            "\u001b[0;31m---------------------------------------------------------------------------\u001b[0m",
            "\u001b[0;31mKeyboardInterrupt\u001b[0m                         Traceback (most recent call last)",
            "\u001b[0;32m<ipython-input-31-c74222b94290>\u001b[0m in \u001b[0;36m<module>\u001b[0;34m()\u001b[0m\n\u001b[1;32m     10\u001b[0m     \u001b[0;32melse\u001b[0m \u001b[0;34m:\u001b[0m\u001b[0;34m\u001b[0m\u001b[0;34m\u001b[0m\u001b[0m\n\u001b[1;32m     11\u001b[0m         \u001b[0mAlertPrice\u001b[0m\u001b[0;34m(\u001b[0m\u001b[0;36m2.5\u001b[0m\u001b[0;34m,\u001b[0m\u001b[0mi\u001b[0m\u001b[0;34m)\u001b[0m\u001b[0;34m\u001b[0m\u001b[0;34m\u001b[0m\u001b[0m\n\u001b[0;32m---> 12\u001b[0;31m   \u001b[0mtime\u001b[0m\u001b[0;34m.\u001b[0m\u001b[0msleep\u001b[0m\u001b[0;34m(\u001b[0m\u001b[0;36m300\u001b[0m\u001b[0;34m)\u001b[0m\u001b[0;34m\u001b[0m\u001b[0;34m\u001b[0m\u001b[0m\n\u001b[0m",
            "\u001b[0;31mKeyboardInterrupt\u001b[0m: "
          ]
        }
      ]
    },
    {
      "cell_type": "code",
      "metadata": {
        "id": "z4Mlm9SV5iU4"
      },
      "source": [
        ""
      ],
      "execution_count": null,
      "outputs": []
    }
  ]
}