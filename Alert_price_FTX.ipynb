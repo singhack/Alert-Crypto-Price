{
  "nbformat": 4,
  "nbformat_minor": 0,
  "metadata": {
    "colab": {
      "name": "Alert price FTX.ipynb",
      "provenance": [],
      "collapsed_sections": []
    },
    "kernelspec": {
      "name": "python3",
      "display_name": "Python 3"
    },
    "language_info": {
      "name": "python"
    }
  },
  "cells": [
    {
      "cell_type": "code",
      "metadata": {
        "colab": {
          "base_uri": "https://localhost:8080/"
        },
        "id": "10mmKk3E2DVs",
        "outputId": "66d78abd-9df5-481c-f248-1a46d1ba29a5"
      },
      "source": [
        "#### Install Libs\n",
        "\n",
        "!pip install ccxt\n",
        "!pip install schedule\n",
        "## TA - LIB ##\n",
        "!wget https://launchpad.net/~mario-mariomedina/+archive/ubuntu/talib/+files/libta-lib0_0.4.0-oneiric1_amd64.deb -qO libta.deb\n",
        "!wget https://launchpad.net/~mario-mariomedina/+archive/ubuntu/talib/+files/ta-lib0-dev_0.4.0-oneiric1_amd64.deb -qO ta.deb\n",
        "!dpkg -i libta.deb ta.deb\n",
        "!pip install ta-lib"
      ],
      "execution_count": 85,
      "outputs": [
        {
          "output_type": "stream",
          "text": [
            "Requirement already satisfied: ccxt in /usr/local/lib/python3.7/dist-packages (1.44.4)\n",
            "Requirement already satisfied: aiodns<2.1,>=1.1.1; python_version >= \"3.5.2\" in /usr/local/lib/python3.7/dist-packages (from ccxt) (2.0.0)\n",
            "Requirement already satisfied: yarl==1.1.0; python_version >= \"3.5.2\" in /usr/local/lib/python3.7/dist-packages (from ccxt) (1.1.0)\n",
            "Requirement already satisfied: aiohttp<3.8,>=3.7.4; python_version >= \"3.5.2\" in /usr/local/lib/python3.7/dist-packages (from ccxt) (3.7.4.post0)\n",
            "Requirement already satisfied: cryptography>=2.6.1 in /usr/local/lib/python3.7/dist-packages (from ccxt) (3.4.6)\n",
            "Requirement already satisfied: certifi>=2018.1.18 in /usr/local/lib/python3.7/dist-packages (from ccxt) (2020.12.5)\n",
            "Requirement already satisfied: setuptools>=38.5.1 in /usr/local/lib/python3.7/dist-packages (from ccxt) (54.1.2)\n",
            "Requirement already satisfied: requests>=2.18.4 in /usr/local/lib/python3.7/dist-packages (from ccxt) (2.23.0)\n",
            "Requirement already satisfied: pycares>=3.0.0 in /usr/local/lib/python3.7/dist-packages (from aiodns<2.1,>=1.1.1; python_version >= \"3.5.2\"->ccxt) (3.1.1)\n",
            "Requirement already satisfied: multidict>=4.0 in /usr/local/lib/python3.7/dist-packages (from yarl==1.1.0; python_version >= \"3.5.2\"->ccxt) (5.1.0)\n",
            "Requirement already satisfied: idna>=2.0 in /usr/local/lib/python3.7/dist-packages (from yarl==1.1.0; python_version >= \"3.5.2\"->ccxt) (2.10)\n",
            "Requirement already satisfied: typing-extensions>=3.6.5 in /usr/local/lib/python3.7/dist-packages (from aiohttp<3.8,>=3.7.4; python_version >= \"3.5.2\"->ccxt) (3.7.4.3)\n",
            "Requirement already satisfied: async-timeout<4.0,>=3.0 in /usr/local/lib/python3.7/dist-packages (from aiohttp<3.8,>=3.7.4; python_version >= \"3.5.2\"->ccxt) (3.0.1)\n",
            "Requirement already satisfied: chardet<5.0,>=2.0 in /usr/local/lib/python3.7/dist-packages (from aiohttp<3.8,>=3.7.4; python_version >= \"3.5.2\"->ccxt) (3.0.4)\n",
            "Requirement already satisfied: attrs>=17.3.0 in /usr/local/lib/python3.7/dist-packages (from aiohttp<3.8,>=3.7.4; python_version >= \"3.5.2\"->ccxt) (20.3.0)\n",
            "Requirement already satisfied: cffi>=1.12 in /usr/local/lib/python3.7/dist-packages (from cryptography>=2.6.1->ccxt) (1.14.5)\n",
            "Requirement already satisfied: urllib3!=1.25.0,!=1.25.1,<1.26,>=1.21.1 in /usr/local/lib/python3.7/dist-packages (from requests>=2.18.4->ccxt) (1.24.3)\n",
            "Requirement already satisfied: pycparser in /usr/local/lib/python3.7/dist-packages (from cffi>=1.12->cryptography>=2.6.1->ccxt) (2.20)\n",
            "\u001b[31mERROR: Operation cancelled by user\u001b[0m\n",
            "Traceback (most recent call last):\n",
            "  File \"/usr/local/lib/python3.7/dist-packages/pip/_internal/cli/base_command.py\", line 153, in _main\n",
            "    status = self.run(options, args)\n",
            "  File \"/usr/local/lib/python3.7/dist-packages/pip/_internal/commands/install.py\", line 328, in run\n",
            "    session = self.get_default_session(options)\n",
            "  File \"/usr/local/lib/python3.7/dist-packages/pip/_internal/cli/req_command.py\", line 72, in get_default_session\n",
            "    self._session = self.enter_context(self._build_session(options))\n",
            "  File \"/usr/local/lib/python3.7/dist-packages/pip/_internal/cli/req_command.py\", line 84, in _build_session\n",
            "    index_urls=self._get_index_urls(options),\n",
            "  File \"/usr/local/lib/python3.7/dist-packages/pip/_internal/network/session.py\", line 240, in __init__\n",
            "    self.headers[\"User-Agent\"] = user_agent()\n",
            "  File \"/usr/local/lib/python3.7/dist-packages/pip/_internal/network/session.py\", line 147, in user_agent\n",
            "    if platform.system():\n",
            "  File \"/usr/lib/python3.7/platform.py\", line 1091, in system\n",
            "    return uname().system\n",
            "  File \"/usr/lib/python3.7/platform.py\", line 1057, in uname\n",
            "    processor = _syscmd_uname('-p', '')\n",
            "  File \"/usr/lib/python3.7/platform.py\", line 814, in _syscmd_uname\n",
            "    output = f.read().strip()\n",
            "KeyboardInterrupt\n",
            "\n",
            "During handling of the above exception, another exception occurred:\n",
            "\n",
            "Traceback (most recent call last):\n",
            "  File \"/usr/local/bin/pip3\", line 8, in <module>\n",
            "    sys.exit(main())\n",
            "  File \"/usr/local/lib/python3.7/dist-packages/pip/_internal/main.py\", line 47, in main\n",
            "    return command.main(cmd_args)\n",
            "  File \"/usr/local/lib/python3.7/dist-packages/pip/_internal/cli/base_command.py\", line 103, in main\n",
            "    return self._main(args)\n",
            "  File \"/usr/local/lib/python3.7/dist-packages/pip/_internal/cli/base_command.py\", line 182, in _main\n",
            "    logger.critical('Operation cancelled by user')\n",
            "  File \"/usr/lib/python3.7/logging/__init__.py\", line 1425, in critical\n",
            "    self._log(CRITICAL, msg, args, **kwargs)\n",
            "  File \"/usr/lib/python3.7/logging/__init__.py\", line 1514, in _log\n",
            "    self.handle(record)\n",
            "  File \"/usr/lib/python3.7/logging/__init__.py\", line 1524, in handle\n",
            "    self.callHandlers(record)\n",
            "  File \"/usr/lib/python3.7/logging/__init__.py\", line 1586, in callHandlers\n",
            "    hdlr.handle(record)\n",
            "  File \"/usr/lib/python3.7/logging/__init__.py\", line 894, in handle\n",
            "    self.emit(record)\n",
            "  File \"/usr/lib/python3.7/logging/__init__.py\", line 1028, in emit\n",
            "    stream.write(msg + self.terminator)\n",
            "KeyboardInterrupt\n",
            "(Reading database ... 161006 files and directories currently installed.)\n",
            "Preparing to unpack libta.deb ...\n",
            "Unpacking libta-lib0 (0.4.0-oneiric1) over (0.4.0-oneiric1) ...\n",
            "Preparing to unpack ta.deb ...\n",
            "Unpacking ta-lib0-dev (0.4.0-oneiric1) over (0.4.0-oneiric1) ...\n",
            "Setting up libta-lib0 (0.4.0-oneiric1) ...\n",
            "Setting up ta-lib0-dev (0.4.0-oneiric1) ...\n",
            "Processing triggers for man-db (2.8.3-2ubuntu0.1) ...\n",
            "Processing triggers for libc-bin (2.27-3ubuntu1.2) ...\n",
            "/sbin/ldconfig.real: /usr/local/lib/python3.7/dist-packages/ideep4py/lib/libmkldnn.so.0 is not a symbolic link\n",
            "\n",
            "Requirement already satisfied: ta-lib in /usr/local/lib/python3.7/dist-packages (0.4.19)\n",
            "Requirement already satisfied: numpy in /usr/local/lib/python3.7/dist-packages (from ta-lib) (1.19.5)\n"
          ],
          "name": "stdout"
        }
      ]
    },
    {
      "cell_type": "code",
      "metadata": {
        "id": "U-bx4VBy4YHU"
      },
      "source": [
        "import pandas as pd\n",
        "import numpy as np\n",
        "import datetime as dt\n",
        "import time\n",
        "import seaborn as sns\n",
        "import math\n",
        "import ccxt\n",
        "import matplotlib.pyplot as plt\n",
        "%matplotlib inline\n",
        "import talib as ta\n",
        "import requests\n",
        "import schedule\n",
        "import warnings\n",
        "\n",
        "\n",
        "pd.options.display.max_columns = None\n",
        "warnings.filterwarnings('ignore')\n",
        "# sns.set_style('darkgrid')\n",
        "\n"
      ],
      "execution_count": 86,
      "outputs": []
    },
    {
      "cell_type": "code",
      "metadata": {
        "id": "qU_SfIm74kL5"
      },
      "source": [
        "######### SET UP EXCHANGE ########\n",
        "apiKey=  ''\n",
        "secret = ''\n",
        "sub_account = ''\n",
        "\n",
        "exchange  = ccxt.ftx({\n",
        "    'verbose': False,\n",
        "    'apiKey': apiKey,\n",
        "    'secret': secret,\n",
        "    'enableRateLimit': True,\n",
        "    'headers': {\n",
        "        'FTX-SUBACCOUNT': sub_account,\n",
        "    },\n",
        "})\n",
        "\n",
        "\n",
        "# mpf.available_styles()\n",
        "### SETTING ###\n",
        "symbol= \"UNI-PERP\"\n",
        "timeframe ='1d'\n",
        "###########\n"
      ],
      "execution_count": 87,
      "outputs": []
    },
    {
      "cell_type": "code",
      "metadata": {
        "id": "Mf4E-haR4phG"
      },
      "source": [
        "def get_data(symbol):\n",
        "  df= pd.DataFrame(exchange.fetch_ohlcv(symbol,timeframe),columns=['date','open','high','low','close','volume'])\n",
        "  # df.drop(columns='volume',inplace=True)\n",
        "  df['volume'] =(df['volume'].astype('int'))\n",
        "  df['date']=df['date'].apply(exchange.iso8601)\n",
        "  df['date']=pd.to_datetime(df['date'])\n",
        "#   df['date']=df['date'].apply(lambda x: x.strftime('%Y-%m-%d %H:%M'))\n",
        "#   df['date']=pd.to_datetime(df['date'])\n",
        "  df.set_index('date',inplace=True)\n",
        "\n",
        "#   df.dropna(inplace=True)\n",
        "  return df\n",
        "\n",
        "\n",
        "\n",
        "def anlysis(dataframe):\n",
        "    try:\n",
        "        df =dataframe\n",
        "        up, mid, low = ta.BBANDS(df['close'], timeperiod=50, nbdevup=2, nbdevdn=2, matype=0)\n",
        "        #   df['chg'] =df.close - df.close.shift(1)\n",
        "        df['atr'] = ta.ATR(df['high'],df['low'],df['close'],timeperiod= 10)\n",
        "        df['rsi']= ta.RSI(df['close'],timeperiod=10)\n",
        "        df.dropna(inplace=True)\n",
        "#         print(df.tail(5))\n",
        "        return df\n",
        "    except Exception as e:\n",
        "        print(str(e))\n",
        "        \n",
        "def sendtext(message):\n",
        "    try:    \n",
        "        token = '' ### ใส่ Token ตรงนี้ครับผม\n",
        "        url = 'https://notify-api.line.me/api/notify'\n",
        "        header = {'content-type':'application/x-www-form-urlencoded','Authorization':'Bearer '+token}   \n",
        "        command = {'message':message}\n",
        "        return requests.post(url, headers=header, data = command)\n",
        "    except Exception as e:\n",
        "        print(e)\n",
        "        "
      ],
      "execution_count": 88,
      "outputs": []
    },
    {
      "cell_type": "code",
      "metadata": {
        "id": "p-Wo9Mw_4q_4"
      },
      "source": [
        "def AlertPrice(trigger,symbol) :### Trigger x.x % \n",
        "    df = get_data(symbol)\n",
        "    df= anlysis(df)\n",
        "    now_price = df['close'][-1]\n",
        "    rsi = df['rsi'][-1]\n",
        "    atr = df['atr'][-1]\n",
        "    ref_price = df['close'][-2]\n",
        "    diff = (now_price - ref_price) /ref_price  *100\n",
        "    diff = round(diff,3)\n",
        "\n",
        "\n",
        "\n",
        "    if abs(diff) >= trigger :\n",
        "        time_stamp = dt.datetime.now().strftime('%D %H:%M:%S')\n",
        "        msg = f' Alert :{time_stamp} \\n•{symbol} \\n•Price {ref_price}:>>>{now_price}>>{diff}% \\n•RSI : {rsi:.2f} ATR : {(atr/now_price*100):.2f}%'\n",
        "        print('#'*60,'\\n')\n",
        "        print(msg)\n",
        "        print('#'*60,'\\n')\n",
        "\n",
        "        sendtext(msg)\n",
        "        \n",
        "\n",
        "    else:\n",
        "        time_stamp = dt.datetime.now().strftime('%D %H:%M:%S')\n",
        "        msg = f' Check Price :{time_stamp} \\n•{symbol} \\n•Price {ref_price}:>>>{now_price}>>{diff}% \\n•RSI : {rsi:.2f} ATR : {(atr/now_price*100):.2f}%'\n",
        "        print('#'*60,'\\n')\n",
        "        print(msg)\n",
        "        print('#'*60,'\\n')\n",
        "\n",
        "\n"
      ],
      "execution_count": 89,
      "outputs": []
    },
    {
      "cell_type": "code",
      "metadata": {
        "id": "UMIrLMpyCrPx",
        "outputId": "d1b8d749-8033-4d89-a665-79ce420c839e",
        "colab": {
          "base_uri": "https://localhost:8080/"
        }
      },
      "source": [
        "    AlertPrice(1.0,symbols)\n"
      ],
      "execution_count": 91,
      "outputs": [
        {
          "output_type": "stream",
          "text": [
            "############################################################ \n",
            "\n",
            " Check Price :03/23/21 17:03:44 \n",
            "•UNI-PERP \n",
            "•Price 34.194:>>>34.143>>-0.149% \n",
            "•RSI : 67.39 ATR : 1.10%\n",
            "############################################################ \n",
            "\n"
          ],
          "name": "stdout"
        }
      ]
    },
    {
      "cell_type": "code",
      "metadata": {
        "id": "mC_yTaBl5I6b"
      },
      "source": [
        "\n",
        "symbols = 'UNI-PERP'\n",
        "timeframe = '15m'\n",
        "\n",
        "while True:\n",
        "    AlertPrice(1.0,symbols)\n",
        "    time.sleep(300)"
      ],
      "execution_count": null,
      "outputs": []
    },
    {
      "cell_type": "code",
      "metadata": {
        "id": "v0XO1sZe5h_9"
      },
      "source": [
        "############ Multi Symbols ##########\n",
        "\n",
        "symbols = ['UNI-PERP','ETH-PERP','BTC-PERP']\n",
        "timeframe = '1h'\n",
        "while True:\n",
        "\n",
        "  for i in symbols:\n",
        "    if i == 'UNI-PERP':\n",
        "      AlertPrice(2.0,i)\n",
        "    else : \n",
        "        AlertPrice(1.5,i)\n",
        "  time.sleep(300)\n"
      ],
      "execution_count": null,
      "outputs": []
    },
    {
      "cell_type": "code",
      "metadata": {
        "id": "z4Mlm9SV5iU4"
      },
      "source": [
        ""
      ],
      "execution_count": null,
      "outputs": []
    }
  ]
}